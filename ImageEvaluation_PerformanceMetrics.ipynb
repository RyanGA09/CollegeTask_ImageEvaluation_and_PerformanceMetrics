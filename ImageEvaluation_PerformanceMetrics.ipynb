{
 "cells": [
  {
   "cell_type": "markdown",
   "metadata": {},
   "source": [
    "# Performance Measurement of Digital Image Processing: Evaluation of Sensitivity, Specificity, Accuracy, False Positive, and False Negative\n",
    "___"
   ]
  },
  {
   "cell_type": "markdown",
   "metadata": {},
   "source": [
    "## Performance Measurement"
   ]
  },
  {
   "cell_type": "code",
   "execution_count": 1,
   "metadata": {},
   "outputs": [],
   "source": [
    "import numpy as np"
   ]
  },
  {
   "cell_type": "markdown",
   "metadata": {},
   "source": [
    "### Question 1:  Evaluation of Image Comparison Metrics"
   ]
  },
  {
   "cell_type": "code",
   "execution_count": 2,
   "metadata": {},
   "outputs": [],
   "source": [
    "realImage1 = np.array([\n",
    "    [0, 0, 0, 0, 0, 1, 1, 0, 0, 0, 0, 0],\n",
    "    [1, 1, 1, 0, 0, 1, 1, 1, 0, 0, 0, 0],\n",
    "    [1, 1, 1, 0, 0, 1, 1, 1, 0, 0, 0, 0],\n",
    "    [1, 1, 1, 0, 0, 1, 1, 1, 0, 0, 0, 0],\n",
    "    [0, 0, 1, 0, 0, 1, 1, 1, 0, 1, 1, 1],\n",
    "    [0, 0, 1, 0, 0, 1, 1, 1, 1, 1, 1, 1],\n",
    "    [0, 0, 1, 1, 1, 1, 0, 1, 1, 1, 1, 1],\n",
    "    [0, 0, 1, 1, 1, 1, 0, 1, 1, 1, 1, 1],\n",
    "    [0, 0, 1, 1, 1, 1, 0, 0, 0, 1, 1, 1],\n",
    "    [0, 0, 1, 1, 1, 1, 0, 0, 0, 1, 1, 1]\n",
    "])\n",
    "\n",
    "resultImage1 = np.array([\n",
    "    [0, 0, 0, 0, 0, 1, 1, 0, 0, 0, 0, 0],\n",
    "    [1, 1, 1, 0, 0, 1, 1, 1, 0, 0, 0, 0],\n",
    "    [1, 1, 1, 1, 1, 1, 1, 1, 0, 0, 0, 0],\n",
    "    [1, 1, 1, 0, 0, 0, 0, 0, 0, 0, 0, 0],\n",
    "    [1, 1, 1, 0, 0, 0, 0, 0, 0, 1, 1, 1],\n",
    "    [1, 1, 1, 1, 1, 1, 1, 1, 1, 1, 1, 1],\n",
    "    [1, 1, 1, 1, 1, 1, 0, 1, 1, 1, 1, 1],\n",
    "    [1, 1, 1, 1, 1, 1, 0, 1, 1, 1, 1, 1],\n",
    "    [0, 0, 1, 1, 1, 1, 0, 0, 0, 1, 1, 1],\n",
    "    [0, 0, 1, 1, 1, 1, 0, 0, 0, 1, 1, 1]\n",
    "])"
   ]
  },
  {
   "cell_type": "code",
   "execution_count": 3,
   "metadata": {},
   "outputs": [
    {
     "name": "stdout",
     "output_type": "stream",
     "text": [
      "[[0 0 0 0 0 1 1 0 0 0 0 0]\n",
      " [1 1 1 0 0 1 1 1 0 0 0 0]\n",
      " [1 1 1 0 0 1 1 1 0 0 0 0]\n",
      " [1 1 1 0 0 1 1 1 0 0 0 0]\n",
      " [0 0 1 0 0 1 1 1 0 1 1 1]\n",
      " [0 0 1 0 0 1 1 1 1 1 1 1]\n",
      " [0 0 1 1 1 1 0 1 1 1 1 1]\n",
      " [0 0 1 1 1 1 0 1 1 1 1 1]\n",
      " [0 0 1 1 1 1 0 0 0 1 1 1]\n",
      " [0 0 1 1 1 1 0 0 0 1 1 1]]\n"
     ]
    }
   ],
   "source": [
    "print(realImage1)"
   ]
  },
  {
   "cell_type": "code",
   "execution_count": 4,
   "metadata": {},
   "outputs": [
    {
     "name": "stdout",
     "output_type": "stream",
     "text": [
      "[[0 0 0 0 0 1 1 0 0 0 0 0]\n",
      " [1 1 1 0 0 1 1 1 0 0 0 0]\n",
      " [1 1 1 1 1 1 1 1 0 0 0 0]\n",
      " [1 1 1 0 0 0 0 0 0 0 0 0]\n",
      " [1 1 1 0 0 0 0 0 0 1 1 1]\n",
      " [1 1 1 1 1 1 1 1 1 1 1 1]\n",
      " [1 1 1 1 1 1 0 1 1 1 1 1]\n",
      " [1 1 1 1 1 1 0 1 1 1 1 1]\n",
      " [0 0 1 1 1 1 0 0 0 1 1 1]\n",
      " [0 0 1 1 1 1 0 0 0 1 1 1]]\n"
     ]
    }
   ],
   "source": [
    "print(resultImage1)"
   ]
  },
  {
   "cell_type": "code",
   "execution_count": 5,
   "metadata": {},
   "outputs": [
    {
     "name": "stdout",
     "output_type": "stream",
     "text": [
      "\n",
      "      Sensitivity = 91.04477611940298\n",
      "      Specificity = 77.35849056603774\n",
      "      Accuracy    = 85.0\n",
      "      FP          = 10.0\n",
      "      FN          = 5.0\n",
      "      \n"
     ]
    }
   ],
   "source": [
    "tp, tn, fn, fp = 0, 0, 0, 0\n",
    "\n",
    "for i in range(realImage1.shape[0]):\n",
    "    for j in range(realImage1.shape[1]):\n",
    "        if realImage1[i][j] == 1 and resultImage1[i][j] == 1:\n",
    "            tp += 1\n",
    "        elif realImage1[i][j] == 1 and resultImage1[i][j] != 1:\n",
    "            fn += 1\n",
    "        elif realImage1[i][j] != 1 and resultImage1[i][j] == 1:\n",
    "            fp += 1\n",
    "        elif realImage1[i][j] != 1 and resultImage1[i][j] != 1:\n",
    "            tn += 1\n",
    "\n",
    "print(f'''\n",
    "      Sensitivity = {tp / (tp + fn) * 100}\n",
    "      Specificity = {tn / (fp + tn) * 100}\n",
    "      Accuracy    = {(tp + tn) / (tp + tn + fp + fn) * 100}\n",
    "      FP          = {fp / (tp + tn + fp + fn) * 100}\n",
    "      FN          = {fn / (tp + tn + fp + fn) * 100}\n",
    "      ''')"
   ]
  },
  {
   "cell_type": "markdown",
   "metadata": {},
   "source": [
    "### Question 2: Evaluation of Image Intensity Comparison Metrics"
   ]
  },
  {
   "cell_type": "code",
   "execution_count": 6,
   "metadata": {},
   "outputs": [],
   "source": [
    "realImage2 = np.array([\n",
    "    [20, 40, 20, 40, 150, 240, 150, 240],\n",
    "    [30, 35, 30, 35, 200, 250, 200, 250],\n",
    "    [40, 48, 40, 48, 180, 241, 20, 40],\n",
    "    [10, 39, 10, 39, 190, 160, 30, 35],\n",
    "    [50, 23, 150, 240, 150, 240, 150, 240],\n",
    "    [20, 40, 200, 250, 200, 250, 200, 250],\n",
    "    [30, 35, 180, 241, 20, 40, 20, 40],\n",
    "    [40, 48, 190, 160, 30, 35, 30, 35],\n",
    "    [10, 39, 150, 240, 150, 240, 40, 48],\n",
    "    [50, 23, 200, 250, 200, 250, 10, 39]\n",
    "])\n",
    "\n",
    "resultImage2 = np.array([\n",
    "    [180, 241, 20, 40, 150, 240, 150, 240],\n",
    "    [190, 160, 30, 35, 200, 250, 200, 250],\n",
    "    [150, 240, 40, 48, 180, 241, 20, 40],\n",
    "    [200, 250, 10, 39, 190, 20, 40, 20],\n",
    "    [180, 241, 150, 240, 150, 30, 35, 30],\n",
    "    [20, 40, 200, 250, 200, 40, 48, 40],\n",
    "    [30, 35, 180, 241, 20, 40, 20, 40],\n",
    "    [40, 48, 190, 160, 30, 35, 30, 35],\n",
    "    [10, 39, 150, 240, 150, 240, 40, 48],\n",
    "    [50, 23, 200, 250, 200, 250, 10, 39]\n",
    "])"
   ]
  },
  {
   "cell_type": "code",
   "execution_count": 7,
   "metadata": {},
   "outputs": [
    {
     "name": "stdout",
     "output_type": "stream",
     "text": [
      "[[ 20  40  20  40 150 240 150 240]\n",
      " [ 30  35  30  35 200 250 200 250]\n",
      " [ 40  48  40  48 180 241  20  40]\n",
      " [ 10  39  10  39 190 160  30  35]\n",
      " [ 50  23 150 240 150 240 150 240]\n",
      " [ 20  40 200 250 200 250 200 250]\n",
      " [ 30  35 180 241  20  40  20  40]\n",
      " [ 40  48 190 160  30  35  30  35]\n",
      " [ 10  39 150 240 150 240  40  48]\n",
      " [ 50  23 200 250 200 250  10  39]]\n"
     ]
    }
   ],
   "source": [
    "print(realImage2)"
   ]
  },
  {
   "cell_type": "code",
   "execution_count": 8,
   "metadata": {},
   "outputs": [
    {
     "name": "stdout",
     "output_type": "stream",
     "text": [
      "[[180 241  20  40 150 240 150 240]\n",
      " [190 160  30  35 200 250 200 250]\n",
      " [150 240  40  48 180 241  20  40]\n",
      " [200 250  10  39 190  20  40  20]\n",
      " [180 241 150 240 150  30  35  30]\n",
      " [ 20  40 200 250 200  40  48  40]\n",
      " [ 30  35 180 241  20  40  20  40]\n",
      " [ 40  48 190 160  30  35  30  35]\n",
      " [ 10  39 150 240 150 240  40  48]\n",
      " [ 50  23 200 250 200 250  10  39]]\n"
     ]
    }
   ],
   "source": [
    "print(resultImage2)"
   ]
  },
  {
   "cell_type": "code",
   "execution_count": 9,
   "metadata": {},
   "outputs": [
    {
     "name": "stdout",
     "output_type": "stream",
     "text": [
      "\n",
      "      Sensitivity = 80.55555555555556\n",
      "      Specificity = 77.27272727272727\n",
      "      Accuracy    = 78.75\n",
      "      FP          = 12.5\n",
      "      FN          = 8.75\n",
      "      \n"
     ]
    }
   ],
   "source": [
    "tp, tn, fn, fp = 0, 0, 0, 0\n",
    "\n",
    "for i in range(realImage2.shape[0]):\n",
    "    for j in range(realImage2.shape[1]):\n",
    "        if realImage2[i][j] >= 100 and resultImage2[i][j] >= 100:\n",
    "            tp += 1\n",
    "        elif realImage2[i][j] >= 100 and resultImage2[i][j] < 100:\n",
    "            fn += 1\n",
    "        elif realImage2[i][j] < 100 and resultImage2[i][j] >= 100:\n",
    "            fp += 1\n",
    "        elif realImage2[i][j] < 100 and resultImage2[i][j] < 100:\n",
    "            tn += 1\n",
    "\n",
    "print(f'''\n",
    "      Sensitivity = {tp / (tp + fn) * 100}\n",
    "      Specificity = {tn / (fp + tn) * 100}\n",
    "      Accuracy    = {(tp + tn) / (tp + tn + fp + fn) * 100}\n",
    "      FP          = {fp / (tp + tn + fp + fn) * 100}\n",
    "      FN          = {fn / (tp + tn + fp + fn) * 100}\n",
    "      ''')"
   ]
  }
 ],
 "metadata": {
  "kernelspec": {
   "display_name": "Python 3",
   "language": "python",
   "name": "python3"
  },
  "language_info": {
   "codemirror_mode": {
    "name": "ipython",
    "version": 3
   },
   "file_extension": ".py",
   "mimetype": "text/x-python",
   "name": "python",
   "nbconvert_exporter": "python",
   "pygments_lexer": "ipython3",
   "version": "3.11.5"
  }
 },
 "nbformat": 4,
 "nbformat_minor": 2
}
